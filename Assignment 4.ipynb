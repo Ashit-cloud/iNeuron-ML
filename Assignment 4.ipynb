{
 "cells": [
  {
   "cell_type": "markdown",
   "metadata": {},
   "source": [
    "**1.1 Write a Python Program(with class concepts) to find the area of the triangle using the below\n",
    "formula.**\n",
    "\n",
    "**area = (s*(s-a)*(s-b)*(s-c)) ** 0.5**\n",
    "\n",
    "**Function to take the length of the sides of triangle from user should be defined in the parent\n",
    "class and function to calculate the area should be defined in subclass.**"
   ]
  },
  {
   "cell_type": "code",
   "execution_count": 4,
   "metadata": {},
   "outputs": [
    {
     "name": "stdout",
     "output_type": "stream",
     "text": [
      "Enter First a: 4\n",
      "Enter Second b: 6\n",
      "Enter Third c: 8\n",
      "Area of traingle is 11.619 cm²\n"
     ]
    }
   ],
   "source": [
    "class Triangle:\n",
    "    def __init__(new):\n",
    "        new.a = float(input(\"Enter First a: \"))\n",
    "        new.b = float(input(\"Enter Second b: \"))\n",
    "        new.c = float(input(\"Enter Third c: \"))\n",
    "        \n",
    "        \n",
    "class Area(Triangle):\n",
    "    def area(new):\n",
    "        s = (new.a + new.b + new.c) / 2\n",
    "        area = (s * (s - new.a)*(s - new.b)*(s - new.c)) ** 0.5\n",
    "        print(f\"Area of traingle is {area:.3f} cm\\u00b2\")\n",
    "        \n",
    "a = Area()\n",
    "a.area()"
   ]
  },
  {
   "cell_type": "markdown",
   "metadata": {},
   "source": [
    "**1.2 Write a function filter_long_words() that takes a list of words and an integer n and returns\n",
    "the list of words that are longer than n.**"
   ]
  },
  {
   "cell_type": "code",
   "execution_count": 6,
   "metadata": {},
   "outputs": [
    {
     "name": "stdout",
     "output_type": "stream",
     "text": [
      "Longest words are: 'Machine', 'Data Analytics', 'Data Science'\n"
     ]
    }
   ],
   "source": [
    "def filter_long_words(words, a):\n",
    "    b = list()\n",
    "    for i in range(len(words)):\n",
    "        if len(words[i]) > a:\n",
    "            b.append(words[i])\n",
    "    print(f\"Longest words are: {str(b)[1:-1]}\")\n",
    "    \n",
    "    \n",
    "ab= [\"Hello\", \"World\", \"Machine\", \"We\", \"Data Analytics\", \"Data Science\", \"DL\"]\n",
    "  \n",
    "filter_long_words(ab, 5)"
   ]
  },
  {
   "cell_type": "markdown",
   "metadata": {},
   "source": [
    "**2.1 Write a Python program using function concept that maps list of words into a list of integers\n",
    "representing the lengths of the corresponding words.**\n",
    "\n",
    "**Hint:** ***If a list [ ab,cde,erty] is passed on to the python function output should come as [2,3,4]***\n",
    "\n",
    "**Here 2,3 and 4 are the lengths of the words in the list.**"
   ]
  },
  {
   "cell_type": "code",
   "execution_count": 8,
   "metadata": {},
   "outputs": [
    {
     "data": {
      "text/plain": [
       "[2, 3, 4]"
      ]
     },
     "execution_count": 8,
     "metadata": {},
     "output_type": "execute_result"
    }
   ],
   "source": [
    "def word_lenth(words):\n",
    "    return len(words)\n",
    "\n",
    "a = ['ab', 'cde', 'efgh']\n",
    "result = map(word_lenth, a)\n",
    "\n",
    "list(result)"
   ]
  },
  {
   "cell_type": "markdown",
   "metadata": {},
   "source": [
    "**2.2 Write a Python function which takes a character (i.e. a string of length 1) and returns True if\n",
    "it is a vowel, False otherwise.**"
   ]
  },
  {
   "cell_type": "code",
   "execution_count": 10,
   "metadata": {},
   "outputs": [
    {
     "name": "stdout",
     "output_type": "stream",
     "text": [
      "Input your character o\n"
     ]
    },
    {
     "data": {
      "text/plain": [
       "True"
      ]
     },
     "execution_count": 10,
     "metadata": {},
     "output_type": "execute_result"
    }
   ],
   "source": [
    "def vowel_check(char):\n",
    "    if char == \"a\" or char == \"e\" or char == \"i\" or char == \"o\" or char == \"u\":\n",
    "        return True\n",
    "    else:\n",
    "        return False\n",
    "    \n",
    "vowel_check(input(\"Input your character \"))"
   ]
  },
  {
   "cell_type": "code",
   "execution_count": null,
   "metadata": {},
   "outputs": [],
   "source": []
  }
 ],
 "metadata": {
  "kernelspec": {
   "display_name": "Python 3",
   "language": "python",
   "name": "python3"
  },
  "language_info": {
   "codemirror_mode": {
    "name": "ipython",
    "version": 3
   },
   "file_extension": ".py",
   "mimetype": "text/x-python",
   "name": "python",
   "nbconvert_exporter": "python",
   "pygments_lexer": "ipython3",
   "version": "3.7.6"
  }
 },
 "nbformat": 4,
 "nbformat_minor": 4
}
